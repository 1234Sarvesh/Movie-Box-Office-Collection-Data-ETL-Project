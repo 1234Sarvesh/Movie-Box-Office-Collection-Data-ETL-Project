{
 "cells": [
  {
   "cell_type": "markdown",
   "id": "eaf5b3a8",
   "metadata": {},
   "source": [
    "## Movie Box Office Collection Data ETL Task"
   ]
  },
  {
   "cell_type": "markdown",
   "id": "65c728a3",
   "metadata": {},
   "source": [
    "### Importing Libraries"
   ]
  },
  {
   "cell_type": "code",
   "execution_count": 2,
   "id": "7e11cb1f",
   "metadata": {},
   "outputs": [],
   "source": [
    "import requests\n",
    "from bs4 import BeautifulSoup\n",
    "import psycopg2\n",
    "from datetime import datetime,timedelta\n",
    "import math"
   ]
  },
  {
   "cell_type": "markdown",
   "id": "116a2ced",
   "metadata": {},
   "source": [
    "### Movie List"
   ]
  },
  {
   "cell_type": "code",
   "execution_count": 3,
   "id": "2bc3bc73",
   "metadata": {},
   "outputs": [],
   "source": [
    "import json\n",
    "import os\n",
    "abc=''\n",
    "with open('config.py') as file:\n",
    "    for i in file:\n",
    "        abc+=i\n",
    "file.close()\n",
    "movielist=json.loads(abc)    "
   ]
  },
  {
   "cell_type": "markdown",
   "id": "13bf568c",
   "metadata": {},
   "source": [
    "### Function for Creating connection with database and creating table in it"
   ]
  },
  {
   "cell_type": "code",
   "execution_count": 4,
   "id": "770efd89",
   "metadata": {},
   "outputs": [],
   "source": [
    "def create():\n",
    "    conn = psycopg2.connect(database = \"postgres\", user = \"postgres\", password = \"postgres\", host = \"127.0.0.1\", port = \"5432\")\n",
    "    print (\"Opened database successfully\")\n",
    "    cur = conn.cursor()\n",
    "\n",
    "    cur.execute('''CREATE TABLE IF NOT EXISTS Boxoffice\n",
    "          (Movie_Name Text     NOT NULL,\n",
    "          Days_From_Release    TEXT,\n",
    "          Date           TEXT     NOT NULL,\n",
    "          Box_Office_Collection     FLOAT   );''')\n",
    "    print (\"Table created successfully\")\n",
    "\n",
    "    conn.commit()\n",
    "    conn.close()"
   ]
  },
  {
   "cell_type": "markdown",
   "id": "8b1568b0",
   "metadata": {},
   "source": [
    "### Function for insering Data into database table "
   ]
  },
  {
   "cell_type": "code",
   "execution_count": 5,
   "id": "f8007bb9",
   "metadata": {},
   "outputs": [],
   "source": [
    "def insert(p):\n",
    "    conn = psycopg2.connect(database = \"postgres\", user = \"postgres\", password = \"postgres\", host = \"127.0.0.1\", port = \"5432\")\n",
    "    #print(\"Opened database successfully\")\n",
    "    cur = conn.cursor()\n",
    "    \n",
    "    \n",
    "    querry=\"INSERT INTO Boxoffice (Movie_Name,Days_From_Release,Date,Box_Office_Collection) \\\n",
    "          VALUES (%s,%s,%s,%s)\"\n",
    "    \n",
    "    record=(i,Day[p],a_date[p],a_collection[p])\n",
    "\n",
    "    cur.execute(querry,record);\n",
    "    conn.commit()\n",
    "    conn.close()"
   ]
  },
  {
   "cell_type": "markdown",
   "id": "933fd36a",
   "metadata": {},
   "source": [
    "### Logic of crawling the data, Transforming the Data, loading the data into datbase"
   ]
  },
  {
   "cell_type": "code",
   "execution_count": 6,
   "id": "3d036c7e",
   "metadata": {},
   "outputs": [],
   "source": [
    "head='https://boxofficecollection.in/'\n",
    "tail='-box-office-collection-day-wise'\n",
    "\n",
    "\n",
    "for i,r in movielist.items():\n",
    "    \n",
    "    #Beautiful soup is used to extract the data from webpage\n",
    "    webpage=requests.get(head+i+tail ).text\n",
    "    soup=BeautifulSoup(webpage,'lxml')\n",
    "    soup1=str(soup).split()\n",
    "    \n",
    "    #fetching table id of table\n",
    "    tablename='tablepress-'\n",
    "    for q in soup1:\n",
    "        if 'tablepress-id-' in q:\n",
    "            for s in q:\n",
    "                if s.isnumeric():\n",
    "                    tablename+=s\n",
    "            break\n",
    "    \n",
    "    #fetching a particular table of box office collection\n",
    "    table1 = soup.find('table', id=tablename)\n",
    "    \n",
    "    #fetching rows from table \n",
    "    row=[]\n",
    "    for j in table1.find_all('tr')[1:]:\n",
    "        row_data = j.find_all('td')\n",
    "        \n",
    "        #fetching Day and collection and appending in row list\n",
    "        for k in row_data:\n",
    "            row.append(k.text)\n",
    "            \n",
    "    #converting a release date in required format\n",
    "    Release_date = r\n",
    "    date=datetime.strptime(Release_date,'%Y-%m-%d').date()\n",
    "                       \n",
    "    \n",
    "    #Segregetting Days and collection in different list\n",
    "    Day=[]\n",
    "    collection=[]\n",
    "    for l in range (len(row)):\n",
    "        if l % 2 == 0:\n",
    "            Day.append(row[l])\n",
    "        else:\n",
    "            collection.append(row[l])\n",
    "                                  \n",
    "    #Auto increment of date accoring to Days \n",
    "    a_date=[]\n",
    "    for m in (Day):\n",
    "        if m.count('Day')>1:\n",
    "            range1=m.split()\n",
    "            D=[]\n",
    "            for n in range(int(range1[-1])-int(range1[1])+1):\n",
    "                date+=timedelta(days=1)\n",
    "                D.append(str(date))\n",
    "            a_date.append(D[0]+' to '+D[-1])\n",
    "        else:\n",
    "            if m=='Day 1':\n",
    "                a_date.append(str(date))\n",
    "            else:\n",
    "                date+=timedelta(days=1)\n",
    "                a_date.append(str(date))\n",
    "                                  \n",
    "    #Conversion of collection into required format(float)\n",
    "    a_collection=[]\n",
    "    for o in collection:\n",
    "        x=o.split()\n",
    "        y=x[0].split('₹')\n",
    "        z=float(y[1])*10000000\n",
    "        w=math.ceil(z)\n",
    "        a_collection.append(w)\n",
    "    \n",
    "    #inserting a data into SQL table\n",
    "    for p in range(len(Day)):\n",
    "        insert(p)"
   ]
  },
  {
   "cell_type": "code",
   "execution_count": null,
   "id": "94fb3060",
   "metadata": {},
   "outputs": [],
   "source": []
  },
  {
   "cell_type": "code",
   "execution_count": null,
   "id": "4f9fc1d0",
   "metadata": {},
   "outputs": [],
   "source": []
  }
 ],
 "metadata": {
  "kernelspec": {
   "display_name": "Python 3 (ipykernel)",
   "language": "python",
   "name": "python3"
  },
  "language_info": {
   "codemirror_mode": {
    "name": "ipython",
    "version": 3
   },
   "file_extension": ".py",
   "mimetype": "text/x-python",
   "name": "python",
   "nbconvert_exporter": "python",
   "pygments_lexer": "ipython3",
   "version": "3.9.7"
  }
 },
 "nbformat": 4,
 "nbformat_minor": 5
}
